{
 "cells": [
  {
   "cell_type": "markdown",
   "metadata": {},
   "source": [
    "# Step 1: data engineering"
   ]
  },
  {
   "cell_type": "code",
   "execution_count": null,
   "metadata": {},
   "outputs": [],
   "source": [
    "# import the data into a pandas dataframe\n",
    "import pandas as pd\n",
    "from datetime import datetime\n",
    "df = pd.read_csv(\"dataset.csv\")\n",
    "df['timestamp'] = pd.to_datetime(df['timestamp'], format='mixed')\n",
    "df"
   ]
  },
  {
   "cell_type": "code",
   "execution_count": null,
   "metadata": {},
   "outputs": [],
   "source": [
    "# query data from the API and store it in a dictionary\n",
    "import requests\n",
    "import json\n",
    "\n",
    "# query data from asset API\n",
    "devices = ['Asset-T0', 'Asset-T1', 'Asset-T2', 'Ton-M5StickC-0', 'Ton-M5StickC-1', 'Ton-M5StickC-2', 'Ton-M5StickC-3']\n",
    "base_url = 'http://localhost:5000/api/asset/'\n",
    "raw_data = {}\n",
    "for device in devices:\n",
    "    url = base_url + device + '?mins=100000&rssi=-100'\n",
    "    resp = requests.get(url)\n",
    "    data = json.loads(resp.text)\n",
    "    raw_data[device] = data['data']\n",
    "print(raw_data)\n",
    "# Remove devices with no data\n",
    "not_found_devices = []\n",
    "for device in raw_data.keys():\n",
    "    if len(raw_data[device]) == 0:\n",
    "        not_found_devices.append(device)\n",
    "for not_found_device in not_found_devices:\n",
    "    print('Removing ' + not_found_device)\n",
    "    del raw_data[not_found_device]\n",
    "print(raw_data)"
   ]
  },
  {
   "cell_type": "code",
   "execution_count": null,
   "metadata": {},
   "outputs": [],
   "source": [
    "# re-organize the data into table format\n",
    "rssi_data = []\n",
    "idx = 0\n",
    "for device in raw_data.keys():\n",
    "    for data in raw_data[device]:\n",
    "        record = []\n",
    "        record.append(data['timestamp'])\n",
    "        record.append(device)\n",
    "        record.append(data['station'])\n",
    "        record.append(data['rssi'])\n",
    "        record.append(0)\n",
    "        rssi_data.append(record)\n",
    "print(len(rssi_data), rssi_data)"
   ]
  },
  {
   "cell_type": "code",
   "execution_count": null,
   "metadata": {},
   "outputs": [],
   "source": [
    "# import the data into a pandas dataframe\n",
    "import pandas as pd\n",
    "from datetime import datetime\n",
    "df = pd.DataFrame(rssi_data, columns=['timestamp', 'device', 'station', 'rssi', 'label'])\n",
    "df['timestamp'] = pd.to_datetime(df['timestamp'], format='mixed')\n",
    "df.shape"
   ]
  },
  {
   "cell_type": "code",
   "execution_count": null,
   "metadata": {},
   "outputs": [],
   "source": [
    "# group data by timestamp\n",
    "station_list = df['station'].unique()\n",
    "device_list = df['device'].unique()\n",
    "df_dicts = {}\n",
    "for station in station_list:\n",
    "    for device in device_list:\n",
    "        sub_df = df[(df['station'] == station) & (df['device'] == device)]\n",
    "        if sub_df.empty:\n",
    "            continue\n",
    "        rssi_values = sub_df[['timestamp','rssi']].resample('1min', on='timestamp').mean()      # Mean -> Low Pass Filter\n",
    "        rssi_values = rssi_values.dropna().reset_index()\n",
    "        idx = station + '+' + device\n",
    "        df_dicts[idx] = rssi_values\n",
    "print(df_dicts)"
   ]
  },
  {
   "cell_type": "code",
   "execution_count": null,
   "metadata": {},
   "outputs": [],
   "source": [
    "# export the data to a CSV file with columns station, device, timestamp, rssi\n",
    "import csv\n",
    "import random\n",
    "\n",
    "with open('dataset.csv', mode='w', newline='') as file:\n",
    "    writer = csv.writer(file)\n",
    "    writer.writerow(['station', 'device', 'timestamp', 'rssi', 'label'])\n",
    "    for key in df_dicts.keys():\n",
    "        station, device = key.split('+')\n",
    "        for idx, row in df_dicts[key].iterrows():\n",
    "            writer.writerow([station, device, row['timestamp'], row['rssi'], random.choice([0, 1, 2])])"
   ]
  },
  {
   "cell_type": "markdown",
   "metadata": {},
   "source": [
    "# Step 2: ML engineering"
   ]
  },
  {
   "cell_type": "code",
   "execution_count": null,
   "metadata": {},
   "outputs": [],
   "source": [
    "import csv\n",
    "\n",
    "# import label data from CSV file\n",
    "label_data = []\n",
    "with open('dataset.csv', mode='r') as file:\n",
    "    reader = csv.reader(file)\n",
    "    for idx, row in enumerate(reader):\n",
    "        if idx == 0:\n",
    "            continue\n",
    "        label_data.append(row)\n",
    "print(label_data)"
   ]
  },
  {
   "cell_type": "code",
   "execution_count": null,
   "metadata": {},
   "outputs": [],
   "source": [
    "# prepare data into ML training format\n",
    "import pandas as pd\n",
    "\n",
    "feature_df = pd.DataFrame(label_data, columns=[\"station\", \"device\", \"timestamp\", \"rssi\", \"label\"])\n",
    "feature_df[\"label\"] = feature_df[\"label\"].astype(int)\n",
    "feature_df[\"rssi\"] = feature_df[\"rssi\"].astype(float)\n",
    "feature_station1_df = feature_df[feature_df[\"station\"] == \"station1\"].reset_index(drop=True)\n",
    "feature_station2_df = feature_df[feature_df[\"station\"] == \"station2\"].reset_index(drop=True)\n",
    "feature_station3_df = feature_df[feature_df[\"station\"] == \"station3\"].reset_index(drop=True)\n",
    "data_len = min(feature_station1_df.shape[0], feature_station2_df.shape[0], feature_station3_df.shape[0])\n",
    "rows = []\n",
    "for index in range(data_len):\n",
    "    row = [feature_station1_df.loc[index, \"rssi\"], feature_station1_df.loc[index, \"rssi\"], feature_station3_df.loc[index, \"rssi\"], feature_df.loc[index, \"label\"]]\n",
    "    rows.append(row)\n",
    "\n",
    "train_df = pd.DataFrame(rows, columns=[\"station1\", \"station2\", \"station3\", \"label\"])\n",
    "train_df"
   ]
  },
  {
   "cell_type": "code",
   "execution_count": null,
   "metadata": {},
   "outputs": [],
   "source": [
    "from sklearn.tree import DecisionTreeClassifier\n",
    "from sklearn.metrics import classification_report\n",
    "\n",
    "x = train_df[[\"station1\", \"station2\", \"station3\"]]\n",
    "y = train_df[\"label\"]\n",
    "\n",
    "model = DecisionTreeClassifier(max_depth=8)\n",
    "model.fit(x, y)\n",
    "pred = model.predict(x)\n",
    "report = classification_report(y, pred)\n",
    "print(report)"
   ]
  },
  {
   "cell_type": "markdown",
   "metadata": {},
   "source": [
    "## Assignment"
   ]
  },
  {
   "cell_type": "code",
   "execution_count": null,
   "metadata": {},
   "outputs": [],
   "source": [
    "# import the data into a pandas dataframe\n",
    "import pandas as pd\n",
    "from datetime import datetime\n",
    "df = pd.read_csv(\"dataset.csv\")\n",
    "df['timestamp'] = pd.to_datetime(df['timestamp'], format='mixed')\n",
    "df.head()"
   ]
  },
  {
   "cell_type": "code",
   "execution_count": null,
   "metadata": {},
   "outputs": [],
   "source": [
    "station_dfs = {}\n",
    "for station in df[\"station\"].unique():\n",
    "    station_dfs[station] = df[df[\"station\"] == station]\n",
    "for station_id in station_dfs.keys():\n",
    "    station_dfs[station_id] = station_dfs[station_id][[\"timestamp\", \"rssi\"]].resample(\"1min\", on=\"timestamp\").mean()\n",
    "\n",
    "station_df = pd.concat(station_dfs.values(), axis=1)\n",
    "station_df.columns = station_dfs.keys()\n",
    "station_df.dropna(inplace=True)\n",
    "station_df[\"label\"] = 0\n",
    "station_df.head()"
   ]
  },
  {
   "cell_type": "code",
   "execution_count": null,
   "metadata": {},
   "outputs": [],
   "source": [
    "def label_create(x):\n",
    "    return x.idxmax()\n",
    "\n",
    "column_mapping = {\"station1\": 0, \"station2\": 1, \"station3\": 2}\n",
    "station_df[\"label\"] = station_df[[\"station1\", \"station2\", \"station3\"]].apply(label_create, axis=1).map(column_mapping)\n",
    "print(station_df)"
   ]
  },
  {
   "cell_type": "code",
   "execution_count": null,
   "metadata": {},
   "outputs": [],
   "source": [
    "station_df.to_csv(\"station_df.csv\")"
   ]
  },
  {
   "cell_type": "code",
   "execution_count": null,
   "metadata": {},
   "outputs": [],
   "source": [
    "import csv\n",
    "\n",
    "label_data = []\n",
    "with open(\"station_df.csv\", mode=\"r\") as file:\n",
    "    reader = csv.reader(file)\n",
    "    for idx, row in enumerate(reader):\n",
    "        if idx == 0:\n",
    "            continue\n",
    "        label_data.append(row)\n",
    "train_df = pd.DataFrame(label_data, columns=[\"timestamp\", \"station1\", \"station2\", \"station3\", \"label\"])\n",
    "train_df[\"station1\"] = train_df[\"station1\"].astype(float)\n",
    "train_df[\"station2\"] = train_df[\"station2\"].astype(float)\n",
    "train_df[\"station3\"] = train_df[\"station3\"].astype(float)\n",
    "train_df[\"label\"] = train_df[\"label\"].astype(int)"
   ]
  },
  {
   "cell_type": "code",
   "execution_count": null,
   "metadata": {},
   "outputs": [],
   "source": [
    "from sklearn.tree import DecisionTreeClassifier\n",
    "from sklearn.metrics import classification_report\n",
    "\n",
    "x = train_df[[\"station1\", \"station2\", \"station3\"]]\n",
    "y = train_df[\"label\"]\n",
    "\n",
    "model = DecisionTreeClassifier(max_depth=8)\n",
    "model.fit(x, y)\n",
    "pred = model.predict([[-60, -80, -90]])\n",
    "result = [key for key, val in column_mapping.items() if val == pred]\n",
    "result"
   ]
  }
 ],
 "metadata": {
  "kernelspec": {
   "display_name": "Python 3",
   "language": "python",
   "name": "python3"
  },
  "language_info": {
   "codemirror_mode": {
    "name": "ipython",
    "version": 3
   },
   "file_extension": ".py",
   "mimetype": "text/x-python",
   "name": "python",
   "nbconvert_exporter": "python",
   "pygments_lexer": "ipython3",
   "version": "3.10.10"
  }
 },
 "nbformat": 4,
 "nbformat_minor": 2
}
