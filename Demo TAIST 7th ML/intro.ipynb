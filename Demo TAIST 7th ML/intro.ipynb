{
 "cells": [
  {
   "cell_type": "markdown",
   "metadata": {},
   "source": [
    "## RSSI Model"
   ]
  },
  {
   "cell_type": "code",
   "execution_count": null,
   "metadata": {},
   "outputs": [],
   "source": [
    "import pandas as pd\n",
    "\n",
    "# Assuming your JSON data is stored in a file named \"data.json\"\n",
    "df = pd.read_json(\"data.jsonl\", lines=True)\n",
    "df = df.drop(columns=\"_id\")\n",
    "df[\"timestamp\"] = df[\"timestamp\"].apply(lambda x: x[\"$date\"])\n",
    "# df[\"label\"] = [0 for _ in range(len(df))]\n",
    "\n",
    "# Print the dataframe\n",
    "print(df)"
   ]
  },
  {
   "cell_type": "code",
   "execution_count": null,
   "metadata": {},
   "outputs": [],
   "source": [
    "df.to_csv(\"dataset.csv\", index=False)"
   ]
  },
  {
   "cell_type": "code",
   "execution_count": null,
   "metadata": {},
   "outputs": [],
   "source": [
    "import pandas as pd\n",
    "import json\n",
    "\n",
    "# Read JSON file\n",
    "with open(\"ble_logs.json\", \"r\") as file:\n",
    "    data = json.load(file)  # Load JSON as a list of dictionaries\n",
    "\n",
    "# Convert to DataFrame\n",
    "df = pd.DataFrame(data)\n",
    "df = df.drop(columns=\"_id\")\n",
    "df[\"timestamp\"] = df[\"timestamp\"].apply(lambda x: x[\"$date\"])\n",
    "\n",
    "# Display DataFrame\n",
    "print(df)"
   ]
  }
 ],
 "metadata": {
  "kernelspec": {
   "display_name": "Python 3",
   "language": "python",
   "name": "python3"
  },
  "language_info": {
   "codemirror_mode": {
    "name": "ipython",
    "version": 3
   },
   "file_extension": ".py",
   "mimetype": "text/x-python",
   "name": "python",
   "nbconvert_exporter": "python",
   "pygments_lexer": "ipython3",
   "version": "3.10.10"
  }
 },
 "nbformat": 4,
 "nbformat_minor": 2
}
