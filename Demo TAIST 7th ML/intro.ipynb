{
 "cells": [
  {
   "cell_type": "markdown",
   "metadata": {},
   "source": [
    "## RSSI Model"
   ]
  },
  {
   "cell_type": "code",
   "execution_count": 6,
   "metadata": {},
   "outputs": [
    {
     "name": "stdout",
     "output_type": "stream",
     "text": [
      "                     timestamp   station          device  rssi\n",
      "0     2025-03-17T20:38:21.936Z  station1  Ton-M5StickC-0   -63\n",
      "1     2025-03-17T20:38:22.962Z  station2  Ton-M5StickC-0   -76\n",
      "2     2025-03-17T20:38:24.950Z  station1  Ton-M5StickC-0   -73\n",
      "3     2025-03-17T20:38:26.044Z  station2  Ton-M5StickC-0   -77\n",
      "4     2025-03-17T20:38:28.021Z  station1  Ton-M5StickC-0   -54\n",
      "...                        ...       ...             ...   ...\n",
      "7843  2025-03-19T19:17:02.107Z  station1        Asset-T1   -47\n",
      "7844  2025-03-19T19:17:04.660Z  station2        Asset-T1   -82\n",
      "7845  2025-03-19T19:17:07.627Z  station2        Asset-T1   -81\n",
      "7846  2025-03-19T19:17:13.798Z  station2        Asset-T1   -85\n",
      "7847  2025-03-19T19:17:17.166Z  station1        Asset-T1   -49\n",
      "\n",
      "[7848 rows x 4 columns]\n"
     ]
    }
   ],
   "source": [
    "import pandas as pd\n",
    "\n",
    "# Assuming your JSON data is stored in a file named \"data.json\"\n",
    "df = pd.read_json(\"data.jsonl\", lines=True)\n",
    "df = df.drop(columns=\"_id\")\n",
    "df[\"timestamp\"] = df[\"timestamp\"].apply(lambda x: x[\"$date\"])\n",
    "# df[\"label\"] = [0 for _ in range(len(df))]\n",
    "\n",
    "# Print the dataframe\n",
    "print(df)"
   ]
  },
  {
   "cell_type": "code",
   "execution_count": 7,
   "metadata": {},
   "outputs": [],
   "source": [
    "df.to_csv(\"dataset.csv\", index=False)"
   ]
  },
  {
   "cell_type": "code",
   "execution_count": 4,
   "metadata": {},
   "outputs": [
    {
     "name": "stdout",
     "output_type": "stream",
     "text": [
      "                     timestamp  station   device  rssi\n",
      "0     2025-03-17T08:11:06.498Z  Tanagid  Asset-0   -70\n",
      "1     2025-03-17T08:11:16.279Z  Tanagid  Asset-0   -74\n",
      "2     2025-03-17T08:11:16.295Z  Tanagid  Asset-2   -74\n",
      "3     2025-03-17T08:11:19.137Z  Tanagid  Asset-2   -67\n",
      "4     2025-03-17T08:11:19.565Z  Tanagid  Asset-0   -69\n",
      "...                        ...      ...      ...   ...\n",
      "4151  2025-03-18T06:08:19.476Z  plantwa  Asset-2   -62\n",
      "4152  2025-03-18T06:08:19.804Z  plantwa  Asset-3   -71\n",
      "4153  2025-03-18T06:08:21.509Z  plantwa  Asset-2   -65\n",
      "4154  2025-03-18T06:08:25.771Z  plantwa  Asset-2   -63\n",
      "4155  2025-03-18T06:08:26.199Z  plantwa  Asset-3   -74\n",
      "\n",
      "[4156 rows x 4 columns]\n"
     ]
    }
   ],
   "source": [
    "import pandas as pd\n",
    "import json\n",
    "\n",
    "# Read JSON file\n",
    "with open(\"ble_logs.json\", \"r\") as file:\n",
    "    data = json.load(file)  # Load JSON as a list of dictionaries\n",
    "\n",
    "# Convert to DataFrame\n",
    "df = pd.DataFrame(data)\n",
    "df = df.drop(columns=\"_id\")\n",
    "df[\"timestamp\"] = df[\"timestamp\"].apply(lambda x: x[\"$date\"])\n",
    "\n",
    "# Display DataFrame\n",
    "print(df)"
   ]
  }
 ],
 "metadata": {
  "kernelspec": {
   "display_name": "Python 3",
   "language": "python",
   "name": "python3"
  },
  "language_info": {
   "codemirror_mode": {
    "name": "ipython",
    "version": 3
   },
   "file_extension": ".py",
   "mimetype": "text/x-python",
   "name": "python",
   "nbconvert_exporter": "python",
   "pygments_lexer": "ipython3",
   "version": "3.10.10"
  }
 },
 "nbformat": 4,
 "nbformat_minor": 2
}
